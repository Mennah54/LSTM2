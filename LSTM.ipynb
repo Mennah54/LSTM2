{
  "nbformat": 4,
  "nbformat_minor": 0,
  "metadata": {
    "colab": {
      "provenance": [],
      "authorship_tag": "ABX9TyPTFWC8BliA4Nq6dodGS/Ys",
      "include_colab_link": true
    },
    "kernelspec": {
      "name": "python3",
      "display_name": "Python 3"
    },
    "language_info": {
      "name": "python"
    }
  },
  "cells": [
    {
      "cell_type": "markdown",
      "metadata": {
        "id": "view-in-github",
        "colab_type": "text"
      },
      "source": [
        "<a href=\"https://colab.research.google.com/github/Mennah54/LSTM2/blob/main/LSTM.ipynb\" target=\"_parent\"><img src=\"https://colab.research.google.com/assets/colab-badge.svg\" alt=\"Open In Colab\"/></a>"
      ]
    },
    {
      "cell_type": "code",
      "execution_count": 3,
      "metadata": {
        "colab": {
          "base_uri": "https://localhost:8080/"
        },
        "id": "YiYI27kTq_PM",
        "outputId": "b5fd0a2c-f4b8-44e0-9515-48fc09feac43"
      },
      "outputs": [
        {
          "output_type": "stream",
          "name": "stdout",
          "text": [
            "Time Step 1, Input 1\n",
            "1. Forget Gate: 0.6225\n",
            "2. Input Gate: 0.6457\n",
            "3. Candidate Cell State: 0.6044\n",
            "4. Cell State Update: 0.3902\n",
            "5. Output Gate: 0.6900\n",
            "6. Hidden State Update: 0.2564\n",
            "----------------------------------------\n",
            "Time Step 2, Input 2\n",
            "1. Forget Gate: 0.7361\n",
            "2. Input Gate: 0.7775\n",
            "3. Candidate Cell State: 0.9009\n",
            "4. Cell State Update: 0.9877\n",
            "5. Output Gate: 0.8459\n",
            "6. Hidden State Update: 0.6398\n",
            "----------------------------------------\n",
            "Time Step 3, Input 3\n",
            "1. Forget Gate: 0.8269\n",
            "2. Input Gate: 0.8730\n",
            "3. Candidate Cell State: 0.9798\n",
            "4. Cell State Update: 1.6721\n",
            "5. Output Gate: 0.9344\n",
            "6. Hidden State Update: 0.8707\n",
            "----------------------------------------\n",
            "Time Step 4, Input 4\n",
            "1. Forget Gate: 0.8896\n",
            "2. Input Gate: 0.9292\n",
            "3. Candidate Cell State: 0.9956\n",
            "4. Cell State Update: 2.4127\n",
            "5. Output Gate: 0.9720\n",
            "6. Hidden State Update: 0.9566\n",
            "----------------------------------------\n",
            "Final Prediction: 3.8262\n"
          ]
        }
      ],
      "source": [
        "import numpy as np\n",
        "\n",
        "def sigmoid(x):\n",
        "    return 1 / (1 + np.exp(-x))\n",
        "\n",
        "def tanh(x):\n",
        "    return np.tanh(x)\n",
        "\n",
        "# Step 1: Initialize Parameters\n",
        "input_dim = 1\n",
        "hidden_dim = 1\n",
        "\n",
        "# Assume arbitrary weight values\n",
        "Wf, Wi, Wo, Wc = 0.5, 0.6, 0.8, 0.7\n",
        "Uf, Ui, Uo, Uc = 0.1, 0.2, 0.4, 0.3\n",
        "bf, bi, bo, bc = 0.0, 0.0, 0.0, 0.0\n",
        "\n",
        "# Initial states\n",
        "h_prev, c_prev = 0, 0\n",
        "\n",
        "# Input sequence\n",
        "inputs = [1, 2, 3, 4]\n",
        "\n",
        "# Step 2: Compute LSTM Values for Each Time Step\n",
        "for t, x_t in enumerate(inputs):\n",
        "    forget_gate = sigmoid(Wf * x_t + Uf * h_prev + bf)\n",
        "    input_gate = sigmoid(Wi * x_t + Ui * h_prev + bi)\n",
        "    candidate_cell_state = tanh(Wc * x_t + Uc * h_prev + bc)\n",
        "    cell_state = forget_gate * c_prev + input_gate * candidate_cell_state\n",
        "    output_gate = sigmoid(Wo * x_t + Uo * h_prev + bo)\n",
        "    hidden_state = output_gate * tanh(cell_state)\n",
        "\n",
        "    # Print results for each time step\n",
        "    print(f\"Time Step {t+1}, Input {x_t}\")\n",
        "    print(f\"1. Forget Gate: {forget_gate:.4f}\")\n",
        "    print(f\"2. Input Gate: {input_gate:.4f}\")\n",
        "    print(f\"3. Candidate Cell State: {candidate_cell_state:.4f}\")\n",
        "    print(f\"4. Cell State Update: {cell_state:.4f}\")\n",
        "    print(f\"5. Output Gate: {output_gate:.4f}\")\n",
        "    print(f\"6. Hidden State Update: {hidden_state:.4f}\")\n",
        "    print(\"-\" * 40)\n",
        "\n",
        "    # Update previous states\n",
        "    h_prev, c_prev = hidden_state, cell_state\n",
        "\n",
        "# Step 3: Predict the Next Value\n",
        "W_y, b_y = 4.0, 0.0  # Assume arbitrary output layer weights\n",
        "predicted_value = W_y * hidden_state + b_y\n",
        "\n",
        "print(f\"Final Prediction: {predicted_value:.4f}\")\n"
      ]
    }
  ]
}